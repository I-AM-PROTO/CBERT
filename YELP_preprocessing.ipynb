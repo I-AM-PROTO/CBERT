{
 "cells": [
  {
   "cell_type": "code",
   "execution_count": null,
   "id": "bc98b498-2620-44bc-bab2-c2c092dc179f",
   "metadata": {},
   "outputs": [],
   "source": [
    "from datasets import load_dataset\n",
    "yelp_data = load_dataset(\"yelp_review_full\")\n",
    "yelp_data = yelp_data['train'][:15000] # Train (our limit)\n",
    "#yelp_data = yelp_data['train'][15000:16000] # Validation small\n",
    "#yelp_data = yelp_data['test'][15000:20000] # Validation medium\n",
    "#yelp_data2 = yelp_data['train'][15000:]  # Validation large"
   ]
  },
  {
   "cell_type": "code",
   "execution_count": null,
   "id": "a5ad5061-0ca9-48d6-8f76-47dc1d5a82ac",
   "metadata": {},
   "outputs": [],
   "source": [
    "id_to_char = ['<PAD>', '<CLS>', '<SEP>', '<MASK>', ' ', '!', '\"', '#', '$', '%', '&', \"'\", '(', ')', '*', '+', ',', '-', '.', '/', '0', '1', '2', '3', '4', '5', '6', '7', '8', '9', ':', ';', '=', '?', '@', \\\n",
    "              '[', '\\\\', ']', '^', '_', '`', 'a', 'b', 'c', 'd', 'e', 'f', 'g', 'h', 'i', 'j', 'k', 'l', 'm', 'n', 'o', 'p', 'q', 'r', 's', 't', 'u', 'v', 'w', 'x', 'y', 'z', '{', '|', '}', '~']\n",
    "char_to_id = {c:i for i,c in enumerate(id_to_char)}"
   ]
  },
  {
   "cell_type": "code",
   "execution_count": null,
   "id": "8901c7c2-88c8-4b31-ba8c-3ae9655f1ef9",
   "metadata": {},
   "outputs": [],
   "source": [
    "input_ids = [] # Ids for each character\n",
    "encoder_mask = [] # Mask for <PAD> tokens\n",
    "word_idx = [] # Indexes of ends of each word\n",
    "num_words = [] # Number of words\n",
    "num_chars = [] # Number of characters\n",
    "len_limit = 256\n",
    "for text in yelp_data['text']:\n",
    "    text = text.lower()\n",
    "    d = [char_to_id['<CLS>']] # for input_ids\n",
    "    w = [-1] # for word_idx, -1 for <CLS>\n",
    "    n = 1 # for num_words\n",
    "    for j, c in enumerate(text):\n",
    "        # This part ignores the space in the beginning of new sentence, ...'s and ,,,'s.\n",
    "        if len(d)==1 and c in [' ', '.', ',']:\n",
    "            continue\n",
    "        \n",
    "        # End of sentence\n",
    "        if c in ['.','?','!']:\n",
    "            d.append(char_to_id[c]) # add last char\n",
    "            w.append(n)\n",
    "            len_d = len(d)-1 # Length except <CLS> and <SEP>\n",
    "            d.append(char_to_id['<SEP>'])\n",
    "            if len(d)<=len_limit: # Only add sentences with acceptable length\n",
    "                mask = [0]*len(d) + [1]*(len_limit-len(d)) # Create mask\n",
    "                d += [char_to_id['<PAD>']]*(len_limit-len(d)) # PAD current sentence\n",
    "                w.append(-1) # <SEP>\n",
    "                w += [-1]*(len_limit-len(w)) \n",
    "                \n",
    "                # Append all to dataset\n",
    "                input_ids.append(d)\n",
    "                encoder_mask.append(mask)\n",
    "                word_idx.append(w)\n",
    "                num_words.append(n)\n",
    "                num_chars.append(len_d)\n",
    "                \n",
    "            # Reset variables to start a new sentence\n",
    "            d = [char_to_id['<CLS>']]\n",
    "            w = [-1]\n",
    "            n = 1\n",
    "        else:\n",
    "            d.append(char_to_id[c])\n",
    "            if c==' ':\n",
    "                w.append(0)\n",
    "                n+=1\n",
    "            else:\n",
    "                w.append(n)"
   ]
  },
  {
   "cell_type": "code",
   "execution_count": null,
   "id": "4eb031e9-b1d7-4944-9198-229f0b869daf",
   "metadata": {},
   "outputs": [],
   "source": [
    "# Save dataset\n",
    "import pandas as pd\n",
    "dataset = {\"input_ids\":input_ids, \"encoder_mask\":encoder_mask, \"word_idx\":word_idx, \"num_words\":num_words, \"num_chars\":num_chars}\n",
    "dataframe = pd.DataFrame(dataset).to_pickle(\"-your path-\")\n",
    "#dataframe.to_csv(\"./dataset/charYelp\")"
   ]
  },
  {
   "cell_type": "code",
   "execution_count": null,
   "id": "810a7a18-c22f-4049-a735-76d1fd968140",
   "metadata": {},
   "outputs": [],
   "source": [
    "print(\"Created sentences:\", len(input_ids))"
   ]
  }
 ],
 "metadata": {
  "kernelspec": {
   "display_name": "Python 3 (ipykernel)",
   "language": "python",
   "name": "python3"
  },
  "language_info": {
   "codemirror_mode": {
    "name": "ipython",
    "version": 3
   },
   "file_extension": ".py",
   "mimetype": "text/x-python",
   "name": "python",
   "nbconvert_exporter": "python",
   "pygments_lexer": "ipython3",
   "version": "3.8.13"
  }
 },
 "nbformat": 4,
 "nbformat_minor": 5
}
